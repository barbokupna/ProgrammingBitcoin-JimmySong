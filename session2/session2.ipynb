{
 "cells": [
  {
   "cell_type": "code",
   "execution_count": 82,
   "id": "37fc1b1b",
   "metadata": {},
   "outputs": [],
   "source": [
    "############## PLEASE RUN THIS CELL FIRST! ###################\n",
    "\n",
    "# import everything and define a test runner function\n",
    "from importlib import reload\n",
    "from helper import run\n",
    "import ecc, helper"
   ]
  },
  {
   "cell_type": "code",
   "execution_count": 83,
   "id": "563325ca",
   "metadata": {},
   "outputs": [
    {
     "name": "stdout",
     "output_type": "stream",
     "text": [
      "True\n"
     ]
    }
   ],
   "source": [
    "# Verify curve Example\n",
    "prime = 137\n",
    "x, y = 73, 128\n",
    "print(y**2 % prime == (x**3 + 7) % prime)"
   ]
  },
  {
   "cell_type": "markdown",
   "id": "37b8223f",
   "metadata": {},
   "source": [
    "### Exercise 1\n",
    "Find out which points are valid on the curve \\\\( y^2 = x^3 + 7: F_{223} \\\\)\n",
    "```\n",
    "(192,105), (17,56), (200,119), (1,193), (42,99)\n",
    "```\n"
   ]
  },
  {
   "cell_type": "code",
   "execution_count": 84,
   "id": "4665ebc3",
   "metadata": {},
   "outputs": [
    {
     "name": "stdout",
     "output_type": "stream",
     "text": [
      "on the curve\n",
      "on the curve\n",
      "not on the curve\n",
      "on the curve\n",
      "not on the curve\n"
     ]
    }
   ],
   "source": [
    "# Exercise 1\n",
    "\n",
    "from ecc import FieldElement, Point\n",
    "prime = 223\n",
    "a = FieldElement(0, prime)\n",
    "b = FieldElement(7, prime)\n",
    "points = ((192,105), (17,56), (200,119), (1,193), (42,99))\n",
    "# iterate over points\n",
    "for x_raw, y_raw in points:\n",
    "\n",
    "    # Initialize points this way:\n",
    "    x = FieldElement(x_raw, prime)\n",
    "    y = FieldElement(y_raw, prime)\n",
    "\n",
    "    # try initializing, ValueError means not on curve\n",
    "    try:\n",
    "        Point(x, y, a, b)\n",
    "        print('on the curve')\n",
    "    except ValueError:  \n",
    "        print('not on the curve')  #/\n",
    "    # print whether it's on the curve or not\n"
   ]
  },
  {
   "cell_type": "markdown",
   "id": "93253e35",
   "metadata": {},
   "source": [
    "### Exercise 2\n",
    "\n",
    "\n",
    "\n",
    "\n",
    "#### Make [this test](/edit/session2/ecc.py) pass: `ecc.py:ECCTest:test_on_curve`"
   ]
  },
  {
   "cell_type": "code",
   "execution_count": 85,
   "id": "b07c8238",
   "metadata": {},
   "outputs": [
    {
     "name": "stderr",
     "output_type": "stream",
     "text": [
      ".\n",
      "----------------------------------------------------------------------\n",
      "Ran 1 test in 0.001s\n",
      "\n",
      "OK\n"
     ]
    }
   ],
   "source": [
    "# Exercise 2\n",
    "\n",
    "reload(ecc)\n",
    "run(ecc.ECCTest('test_on_curve'))"
   ]
  },
  {
   "cell_type": "code",
   "execution_count": 86,
   "id": "2e33e1b8",
   "metadata": {},
   "outputs": [
    {
     "name": "stdout",
     "output_type": "stream",
     "text": [
      "Point(99,49)_137\n"
     ]
    }
   ],
   "source": [
    "from ecc import FieldElement, Point\n",
    "# Example where x1 != x2\n",
    "prime = 137\n",
    "a = FieldElement(0, prime)\n",
    "b = FieldElement(7, prime)\n",
    "p1 = Point(FieldElement(73, prime), FieldElement(128, prime), a, b)\n",
    "p2 = Point(FieldElement(46, prime), FieldElement(22, prime), a, b)\n",
    "print(p1+p2)"
   ]
  },
  {
   "cell_type": "markdown",
   "id": "1acf8961",
   "metadata": {},
   "source": [
    "### Exercise 3\n",
    "Find the following point additions on the curve  \\\\( y^2 = x^3 + 7: F_{223} \\\\)\n",
    "```\n",
    "(192,105) + (17,56), (47,71) + (117,141), (143,98) + (76,66)\n",
    "```\n"
   ]
  },
  {
   "cell_type": "code",
   "execution_count": 87,
   "id": "275ff5b8",
   "metadata": {},
   "outputs": [
    {
     "name": "stdout",
     "output_type": "stream",
     "text": [
      "Point(170,142)_223\n",
      "Point(60,139)_223\n",
      "Point(47,71)_223\n"
     ]
    }
   ],
   "source": [
    "# Exercise 3\n",
    "\n",
    "prime = 223\n",
    "a = FieldElement(0, prime)\n",
    "b = FieldElement(7, prime)\n",
    "additions = ((192, 105, 17, 56), (47, 71, 117, 141), (143, 98, 76, 66))\n",
    "# iterate over the additions to be done\n",
    "for x1_raw, y1_raw, x2_raw, y2_raw in additions:\n",
    "    \n",
    "    # Initialize points this way:\n",
    "    x1 = FieldElement(x1_raw, prime)\n",
    "    y1 = FieldElement(y1_raw, prime)\n",
    "    p1 = Point(x1, y1, a, b)\n",
    "    \n",
    "    x2 = FieldElement(x2_raw, prime)\n",
    "    y2 = FieldElement(y2_raw, prime)\n",
    "    p2 = Point(x2, y2, a, b)\n",
    "    # print p1+p2\n",
    "    print(p1 + p2)\n"
   ]
  },
  {
   "cell_type": "markdown",
   "id": "3166d6ac",
   "metadata": {},
   "source": [
    "### Exercise 4\n",
    "\n",
    "\n",
    "\n",
    "\n",
    "#### Make [this test](/edit/session2/ecc.py) pass: `ecc.py:ECCTest:test_add`"
   ]
  },
  {
   "cell_type": "code",
   "execution_count": 88,
   "id": "aa066cb6",
   "metadata": {},
   "outputs": [
    {
     "name": "stderr",
     "output_type": "stream",
     "text": [
      ".\n",
      "----------------------------------------------------------------------\n",
      "Ran 1 test in 0.001s\n",
      "\n",
      "OK\n"
     ]
    }
   ],
   "source": [
    "# Exercise 4\n",
    "\n",
    "reload(ecc)\n",
    "run(ecc.ECCTest('test_add'))"
   ]
  },
  {
   "cell_type": "code",
   "execution_count": 89,
   "id": "92e6803e",
   "metadata": {},
   "outputs": [
    {
     "name": "stdout",
     "output_type": "stream",
     "text": [
      "Point(103,76)_137\n"
     ]
    }
   ],
   "source": [
    "from ecc import FieldElement, Point\n",
    "# Example where x1 != x2\n",
    "prime = 137\n",
    "a = FieldElement(0, prime)\n",
    "b = FieldElement(7, prime)\n",
    "p = Point(FieldElement(73, prime), FieldElement(128, prime), a, b)\n",
    "print(p+p)"
   ]
  },
  {
   "cell_type": "markdown",
   "id": "0bbfa698",
   "metadata": {},
   "source": [
    "### Exercise 5\n",
    "Find the following scalar multiplications on the curve  \\\\( y^2 = x^3 + 7: F_{223} \\\\)\n",
    "\n",
    "* 2*(192,105)\n",
    "* 2*(143,98)\n",
    "* 2*(47,71)\n",
    "* 4*(47,71)\n",
    "* 8*(47,71)\n",
    "* 21*(47,71)\n",
    "\n",
    "#### Hint: add the point to itself n times\n"
   ]
  },
  {
   "cell_type": "code",
   "execution_count": 90,
   "id": "95afb42c",
   "metadata": {},
   "outputs": [
    {
     "name": "stdout",
     "output_type": "stream",
     "text": [
      "Point(49,71)_223\n",
      "Point(64,168)_223\n",
      "Point(36,111)_223\n",
      "Point(194,51)_223\n",
      "Point(116,55)_223\n",
      "Point(infinity)\n"
     ]
    }
   ],
   "source": [
    "# Exercise 5\n",
    "\n",
    "prime = 223\n",
    "a = FieldElement(0, prime)\n",
    "b = FieldElement(7, prime)\n",
    "multiplications = ((2, 192, 105), (2, 143, 98), (2, 47, 71), (4, 47, 71), (8, 47, 71), (21, 47, 71))\n",
    "# iterate over the multiplications\n",
    "for n, x_raw, y_raw in multiplications:\n",
    "    \n",
    "    # Initialize points this way:\n",
    "    x = FieldElement(x_raw, prime)\n",
    "    y = FieldElement(y_raw, prime)\n",
    "    try: \n",
    "        p = Point(x, y, a, b)\n",
    "        \n",
    "    except ValueError:  \n",
    "        print(f'({x_raw},{y_raw}) is not on the curve')\n",
    "    # start product at 0 (point at infinity)\n",
    "    product = Point(None,None, a,b)\n",
    "    # loop over n times (n is 2, 4, 8 or 21 in the above examples)\n",
    "    for _ in range(n): \n",
    "        product +=  p\n",
    "        # add the point to the product\n",
    "\n",
    "    # print(f'(point {x_raw},{y_raw})')\n",
    "    print(product)\n",
    "    # print product\n"
   ]
  },
  {
   "cell_type": "code",
   "execution_count": 91,
   "id": "c0dfea02",
   "metadata": {},
   "outputs": [
    {
     "name": "stdout",
     "output_type": "stream",
     "text": [
      "1:Point(47,71)_223\n",
      "2:Point(36,111)_223\n",
      "3:Point(15,137)_223\n",
      "4:Point(194,51)_223\n",
      "5:Point(126,96)_223\n",
      "6:Point(139,137)_223\n",
      "7:Point(92,47)_223\n",
      "8:Point(116,55)_223\n",
      "9:Point(69,86)_223\n",
      "10:Point(154,150)_223\n",
      "11:Point(154,73)_223\n",
      "12:Point(69,137)_223\n",
      "13:Point(116,168)_223\n",
      "14:Point(92,176)_223\n",
      "15:Point(139,86)_223\n",
      "16:Point(126,127)_223\n",
      "17:Point(194,172)_223\n",
      "18:Point(15,86)_223\n",
      "19:Point(36,112)_223\n",
      "20:Point(47,152)_223\n",
      "21:Point(infinity)\n"
     ]
    }
   ],
   "source": [
    "from ecc import FieldElement, Point\n",
    "# Group Example\n",
    "prime = 223\n",
    "a = FieldElement(0, prime)\n",
    "b = FieldElement(7, prime)\n",
    "g = Point(FieldElement(47, prime), FieldElement(71, prime), a, b)\n",
    "inf = Point(None, None, a, b)\n",
    "total = g\n",
    "count = 1\n",
    "while total != inf:\n",
    "    print(f'{count}:{total}')\n",
    "    total += g\n",
    "    count += 1\n",
    "print(f'{count}:{total}')"
   ]
  },
  {
   "cell_type": "markdown",
   "id": "cdd982c8",
   "metadata": {},
   "source": [
    "### Exercise 6\n",
    "Find out what the order of the group generated by (15, 86) is on  \\\\( y^2 = x^3 + 7: F_{223} \\\\)\n",
    "\n",
    "#### Hint: add the point to itself until you get the point at infinity\n"
   ]
  },
  {
   "cell_type": "code",
   "execution_count": 92,
   "id": "17c7c958",
   "metadata": {},
   "outputs": [
    {
     "name": "stdout",
     "output_type": "stream",
     "text": [
      "7\n"
     ]
    }
   ],
   "source": [
    "# Exercise 6\n",
    "\n",
    "prime = 223\n",
    "a = FieldElement(0, prime)\n",
    "b = FieldElement(7, prime)\n",
    "x = FieldElement(15, prime)\n",
    "y = FieldElement(86, prime)\n",
    "p = Point(x, y, a, b)\n",
    "inf = Point(None, None, a, b)\n",
    "# start product at point\n",
    "product = p\n",
    "# start counter at 1\n",
    "ct = 1\n",
    "# loop until you get point at infinity (0)\n",
    "while (product != inf) :\n",
    "    # add the point to the product\n",
    "    product += p\n",
    "    # increment counter\n",
    "    ct +=1\n",
    "\n",
    "# print counter\n",
    "print(ct)"
   ]
  },
  {
   "cell_type": "markdown",
   "id": "3811b4ef",
   "metadata": {},
   "source": [
    "### Exercise 7\n",
    "\n",
    "\n",
    "\n",
    "\n",
    "#### Make [this test](/edit/session2/ecc.py) pass: `ecc.py:ECCTest:test_rmul`"
   ]
  },
  {
   "cell_type": "code",
   "execution_count": 93,
   "id": "43b2bf8e",
   "metadata": {},
   "outputs": [
    {
     "name": "stderr",
     "output_type": "stream",
     "text": [
      ".\n",
      "----------------------------------------------------------------------\n",
      "Ran 1 test in 0.001s\n",
      "\n",
      "OK\n"
     ]
    }
   ],
   "source": [
    "# Exercise 7\n",
    "\n",
    "reload(ecc)\n",
    "run(ecc.ECCTest('test_rmul'))"
   ]
  },
  {
   "cell_type": "code",
   "execution_count": 37,
   "id": "ed05cfe2",
   "metadata": {},
   "outputs": [
    {
     "name": "stdout",
     "output_type": "stream",
     "text": [
      "True\n"
     ]
    }
   ],
   "source": [
    "# Confirgming G is on the curve\n",
    "p = 2**256 - 2**32 - 977\n",
    "x = 0x79BE667EF9DCBBAC55A06295CE870B07029BFCDB2DCE28D959F2815B16F81798\n",
    "y = 0x483ADA7726A3C4655DA4FBFC0E1108A8FD17B448A68554199C47D08FFB10D4B8\n",
    "print(y**2 % p == (x**3 + 7) % p)"
   ]
  },
  {
   "cell_type": "code",
   "execution_count": 38,
   "id": "474b77dc",
   "metadata": {},
   "outputs": [
    {
     "name": "stdout",
     "output_type": "stream",
     "text": [
      "S256Point(infinity)\n"
     ]
    }
   ],
   "source": [
    "# Confirming order of G is n\n",
    "from ecc import G\n",
    "n = 0xFFFFFFFFFFFFFFFFFFFFFFFFFFFFFFFEBAAEDCE6AF48A03BBFD25E8CD0364141\n",
    "print(n*G)"
   ]
  },
  {
   "cell_type": "code",
   "execution_count": 44,
   "id": "d5dca5fd",
   "metadata": {},
   "outputs": [
    {
     "name": "stdout",
     "output_type": "stream",
     "text": [
      "S256Point(9680241112d370b56da22eb535745d9e314380e568229e09f7241066003bc471,ddac2d377f03c201ffa0419d6596d10327d6c70313bb492ff495f946285d8f38)\n"
     ]
    }
   ],
   "source": [
    "# Getting the public point from a secret\n",
    "from ecc import G\n",
    "secret = 999\n",
    "point = secret*G\n",
    "print(point)"
   ]
  },
  {
   "cell_type": "markdown",
   "id": "d2c6f107",
   "metadata": {},
   "source": [
    "### Exercise 8\n",
    "Get the public point where the scalar is the following:\n",
    "\n",
    "* 7\n",
    "* 1485\n",
    "* \\\\(2^{128}\\\\)\n",
    "* \\\\(2^{240}+2^{31}\\\\)\n"
   ]
  },
  {
   "cell_type": "code",
   "execution_count": 45,
   "id": "e15f8732",
   "metadata": {},
   "outputs": [
    {
     "name": "stdout",
     "output_type": "stream",
     "text": [
      "S256Point(5cbdf0646e5db4eaa398f365f2ea7a0e3d419b7e0330e39ce92bddedcac4f9bc,6aebca40ba255960a3178d6d861a54dba813d0b813fde7b5a5082628087264da)\n",
      "S256Point(c982196a7466fbbbb0e27a940b6af926c1a74d5ad07128c82824a11b5398afda,7a91f9eae64438afb9ce6448a1c133db2d8fb9254e4546b6f001637d50901f55)\n",
      "S256Point(8f68b9d2f63b5f339239c1ad981f162ee88c5678723ea3351b7b444c9ec4c0da,662a9f2dba063986de1d90c2b6be215dbbea2cfe95510bfdf23cbf79501fff82)\n",
      "S256Point(9577ff57c8234558f293df502ca4f09cbc65a6572c842b39b366f21717945116,10b49c67fa9365ad7b90dab070be339a1daf9052373ec30ffae4f72d5e66d053)\n"
     ]
    }
   ],
   "source": [
    "# Exercise 8\n",
    "\n",
    "from ecc import G\n",
    "secrets = (7, 1485, 2**128, 2**240+2**31)\n",
    "# iterate over secrets\n",
    "for secret in secrets:\n",
    "    \n",
    "    print(secret * G)\n",
    "    # get the public point\n"
   ]
  },
  {
   "cell_type": "markdown",
   "id": "aaff0663",
   "metadata": {},
   "source": [
    "### Exercise 9\n",
    "\n",
    "\n",
    "\n",
    "\n",
    "#### Make [this test](/edit/session2/ecc.py) pass: `ecc.py:S256Test:test_pubpoint`"
   ]
  },
  {
   "cell_type": "code",
   "execution_count": 48,
   "id": "a3b5ee79",
   "metadata": {},
   "outputs": [
    {
     "name": "stderr",
     "output_type": "stream",
     "text": [
      ".\n",
      "----------------------------------------------------------------------\n",
      "Ran 1 test in 0.042s\n",
      "\n",
      "OK\n"
     ]
    }
   ],
   "source": [
    "# Exercise 9\n",
    "\n",
    "reload(ecc)\n",
    "run(ecc.S256Test('test_pubpoint'))"
   ]
  },
  {
   "cell_type": "code",
   "execution_count": 49,
   "id": "07b56294",
   "metadata": {},
   "outputs": [
    {
     "name": "stdout",
     "output_type": "stream",
     "text": [
      "045cbdf0646e5db4eaa398f365f2ea7a0e3d419b7e0330e39ce92bddedcac4f9bc6aebca40ba255960a3178d6d861a54dba813d0b813fde7b5a5082628087264da\n",
      "025cbdf0646e5db4eaa398f365f2ea7a0e3d419b7e0330e39ce92bddedcac4f9bc\n"
     ]
    }
   ],
   "source": [
    "# SEC Example\n",
    "from ecc import S256Point\n",
    "point = S256Point(0x5CBDF0646E5DB4EAA398F365F2EA7A0E3D419B7E0330E39CE92BDDEDCAC4F9BC, 0x6AEBCA40BA255960A3178D6D861A54DBA813D0B813FDE7B5A5082628087264DA)\n",
    "uncompressed = b'\\x04' + point.x.num.to_bytes(32, 'big') + point.y.num.to_bytes(32, 'big')\n",
    "print(uncompressed.hex())\n",
    "if point.y.num % 2 == 1:\n",
    "    compressed = b'\\x03' + point.x.num.to_bytes(32, 'big')\n",
    "else:\n",
    "    compressed = b'\\x02' + point.x.num.to_bytes(32, 'big')\n",
    "print(compressed.hex())"
   ]
  },
  {
   "cell_type": "markdown",
   "id": "8b55fd0f",
   "metadata": {},
   "source": [
    "### Exercise 10\n",
    "Find the compressed and uncompressed SEC format for pub keys where the private keys are:\n",
    "```\n",
    "999**3, 123, 42424242\n",
    "```\n"
   ]
  },
  {
   "cell_type": "code",
   "execution_count": 65,
   "id": "65f46786",
   "metadata": {},
   "outputs": [
    {
     "name": "stdout",
     "output_type": "stream",
     "text": [
      "049d5ca49670cbe4c3bfa84c96a8c87df086c6ea6a24ba6b809c9de234496808d56fa15cc7f3d38cda98dee2419f415b7513dde1301f8643cd9245aea7f3f911f9\n",
      "039d5ca49670cbe4c3bfa84c96a8c87df086c6ea6a24ba6b809c9de234496808d5\n",
      "04a598a8030da6d86c6bc7f2f5144ea549d28211ea58faa70ebf4c1e665c1fe9b5204b5d6f84822c307e4b4a7140737aec23fc63b65b35f86a10026dbd2d864e6b\n",
      "03a598a8030da6d86c6bc7f2f5144ea549d28211ea58faa70ebf4c1e665c1fe9b5\n",
      "04aee2e7d843f7430097859e2bc603abcc3274ff8169c1a469fee0f20614066f8e21ec53f40efac47ac1c5211b2123527e0e9b57ede790c4da1e72c91fb7da54a3\n",
      "03aee2e7d843f7430097859e2bc603abcc3274ff8169c1a469fee0f20614066f8e\n"
     ]
    }
   ],
   "source": [
    "# Exercise 10\n",
    "\n",
    "from ecc import G\n",
    "secrets = (999**3, 123, 42424242)\n",
    "# iterate through secrets\n",
    "for secret in secrets: \n",
    "    \n",
    "    # get public point\n",
    "    point = secret*G\n",
    "\n",
    "    # uncompressed - b'\\x04' followed by x coord, then y coord\n",
    "    # here's how you express a coordinate in bytes: some_integer.to_bytes(32, 'big')\n",
    "    uncompressed= b'\\x04'+ point.x.num.to_bytes(32,'big') + point.y.num.to_bytes(32,'big')\n",
    "    \n",
    "\n",
    "    # compressed - b'\\x02'/b'\\x03' follewed by x coord. 02 if y is even, 03 otherwise\n",
    "    \n",
    "    if point.y.num % 2 == 1:\n",
    "        compressed = b'\\x03' + point.x.num.to_bytes(32, 'big')\n",
    "    else:\n",
    "        compressed = b'\\x02' + point.x.num.to_bytes(32, 'big')\n",
    "    \n",
    "    \n",
    "    print(uncompressed.hex())\n",
    "    print(compressed.hex())\n",
    "\n",
    "\n",
    "    # print the .hex() of both\n",
    "\n"
   ]
  },
  {
   "cell_type": "markdown",
   "id": "b64cf1ff",
   "metadata": {},
   "source": [
    "### Exercise 11\n",
    "\n",
    "\n",
    "\n",
    "\n",
    "#### Make [this test](/edit/session2/ecc.py) pass: `ecc.py:S256Test:test_sec`"
   ]
  },
  {
   "cell_type": "code",
   "execution_count": 63,
   "id": "a8c5698a",
   "metadata": {},
   "outputs": [
    {
     "name": "stderr",
     "output_type": "stream",
     "text": [
      ".\n",
      "----------------------------------------------------------------------\n",
      "Ran 1 test in 0.012s\n",
      "\n",
      "OK\n"
     ]
    }
   ],
   "source": [
    "# Exercise 11\n",
    "\n",
    "reload(ecc)\n",
    "run(ecc.S256Test('test_sec'))"
   ]
  },
  {
   "cell_type": "code",
   "execution_count": 67,
   "id": "6cc1eb83",
   "metadata": {},
   "outputs": [
    {
     "name": "stdout",
     "output_type": "stream",
     "text": [
      "19ZewH8Kk1PDbSNdJ97FP4EiCjTRaZMZQA\n"
     ]
    }
   ],
   "source": [
    "# Address Example\n",
    "from helper import encode_base58, hash160, hash256\n",
    "sec = bytes.fromhex('025CBDF0646E5DB4EAA398F365F2EA7A0E3D419B7E0330E39CE92BDDEDCAC4F9BC')\n",
    "h160 = hash160(sec)\n",
    "raw = b'\\x00' + h160\n",
    "raw = raw + hash256(raw)[:4]\n",
    "addr = encode_base58(raw)\n",
    "print(addr)"
   ]
  },
  {
   "cell_type": "markdown",
   "id": "bd2c4741",
   "metadata": {},
   "source": [
    "### Exercise 12\n",
    "Find the mainnet and testnet addresses corresponding to the private keys:\n",
    "\n",
    "* \\\\(888^3\\\\), compressed\n",
    "* 321, uncompressed\n",
    "* 4242424242, uncompressed\n"
   ]
  },
  {
   "cell_type": "code",
   "execution_count": 79,
   "id": "e3cfb72b",
   "metadata": {},
   "outputs": [
    {
     "name": "stdout",
     "output_type": "stream",
     "text": [
      "148dY81A9BmdpMhvYEVznrM45kWN32vSCN\n",
      "mieaqB68xDCtbUBYFoUNcmZNwk74xcBfTP\n",
      "1S6g2xBJSED7Qr9CYZib5f4PYVhHZiVfj\n",
      "mfx3y63A7TfTtXKkv7Y6QzsPFY6QCBCXiP\n",
      "1226JSptcStqn4Yq9aAmNXdwdc2ixuH9nb\n",
      "mgY3bVusRUL6ZB2Ss999CSrGVbdRwVpM8s\n"
     ]
    }
   ],
   "source": [
    "# Exercise 12\n",
    "\n",
    "from ecc import G\n",
    "from helper import encode_base58, hash160, hash256\n",
    "components = (\n",
    "    # (secret, compressed)\n",
    "    (888**3, True),\n",
    "    (321, False),\n",
    "    (4242424242, False),\n",
    ")\n",
    "# iterate through components\n",
    "for secret, compressed in components:\n",
    "    \n",
    "    # get the public point\n",
    "    point = secret*G\n",
    "\n",
    "    # get the sec format\n",
    "    secFormat = point.sec(compressed)\n",
    "    \n",
    "    # hash160 the result\n",
    "    hash160_result = hash160(secFormat)\n",
    "    \n",
    "    # prepend b'\\x00' for mainnet b'\\x6f' for testnet/signet\n",
    "    mainnet_address = b'\\x00' + hash160_result\n",
    "    mainHashChecksum = hash256(mainnet_address)[:4]\n",
    "    mainnet_address = mainnet_address + mainHashChecksum\n",
    "    mainnet_address = encode_base58(mainnet_address)\n",
    "    \n",
    "    \n",
    "    testnet_address = b'\\x6f' + hash160_result\n",
    "    testHashChecksum = hash256(testnet_address)[:4]\n",
    "    testnet_address = testnet_address + testHashChecksum\n",
    "    testnet_address = encode_base58(testnet_address)\n",
    "        # raw is the prefix + h160\n",
    "        # get the hash256 of the raw, first 4 bytes are the checksum\n",
    "        # append checksum\n",
    "        # encode_base58 the whole thing\n",
    "        \n",
    "    print(mainnet_address)\n",
    "    print(testnet_address)\n"
   ]
  },
  {
   "cell_type": "markdown",
   "id": "351ec364",
   "metadata": {},
   "source": [
    "### Exercise 13\n",
    "\n",
    "\n",
    "\n",
    "\n",
    "#### Make [this test](/edit/session2/helper.py) pass: `helper.py:HelperTest:test_encode_base58_checksum`"
   ]
  },
  {
   "cell_type": "code",
   "execution_count": 83,
   "id": "986495b1",
   "metadata": {},
   "outputs": [
    {
     "name": "stderr",
     "output_type": "stream",
     "text": [
      ".\n",
      "----------------------------------------------------------------------\n",
      "Ran 1 test in 0.001s\n",
      "\n",
      "OK\n"
     ]
    }
   ],
   "source": [
    "# Exercise 13\n",
    "\n",
    "reload(helper)\n",
    "run(helper.HelperTest('test_encode_base58_checksum'))"
   ]
  },
  {
   "cell_type": "markdown",
   "id": "6a1ed582",
   "metadata": {},
   "source": [
    "### Exercise 14\n",
    "\n",
    "\n",
    "\n",
    "\n",
    "#### Make [this test](/edit/session2/ecc.py) pass: `ecc.py:S256Test:test_address`"
   ]
  },
  {
   "cell_type": "code",
   "execution_count": 87,
   "id": "74e6a982",
   "metadata": {},
   "outputs": [
    {
     "name": "stderr",
     "output_type": "stream",
     "text": [
      ".\n",
      "----------------------------------------------------------------------\n",
      "Ran 1 test in 0.012s\n",
      "\n",
      "OK\n"
     ]
    }
   ],
   "source": [
    "# Exercise 14\n",
    "\n",
    "reload(ecc)\n",
    "run(ecc.S256Test('test_address'))"
   ]
  },
  {
   "cell_type": "markdown",
   "id": "e819729c",
   "metadata": {},
   "source": [
    "### Exercise 15\n",
    "Create a testnet/signet address using your own secret key (use your name and email as the password if you can't think of anything). Record this secret key for tomorrow!\n"
   ]
  },
  {
   "cell_type": "code",
   "execution_count": null,
   "id": "14b1db96",
   "metadata": {},
   "outputs": [],
   "source": [
    "# Exercise 15\n",
    "\n",
    "from ecc import G\n",
    "from helper import little_endian_to_int, hash256\n",
    "# use a passphrase\n",
    "passphrase = b'barbokupna@gmail.com'\n",
    "secret = little_endian_to_int(hash256(passphrase))\n",
    "# get the public point\n",
    "\n",
    "# if you completed exercise 14, just do the .address(network=\"testnet\") method on the public point\n"
   ]
  }
 ],
 "metadata": {
  "kernelspec": {
   "display_name": "Python 3 (ipykernel)",
   "language": "python",
   "name": "python3"
  },
  "language_info": {
   "codemirror_mode": {
    "name": "ipython",
    "version": 3
   },
   "file_extension": ".py",
   "mimetype": "text/x-python",
   "name": "python",
   "nbconvert_exporter": "python",
   "pygments_lexer": "ipython3",
   "version": "3.11.1"
  }
 },
 "nbformat": 4,
 "nbformat_minor": 5
}
