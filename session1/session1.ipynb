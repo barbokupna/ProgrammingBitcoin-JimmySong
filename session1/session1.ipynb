{
 "cells": [
  {
   "cell_type": "code",
   "execution_count": 25,
   "id": "d23e62f8",
   "metadata": {},
   "outputs": [],
   "source": [
    "############## PLEASE RUN THIS CELL FIRST! ###################\n",
    "\n",
    "# import everything and define a test runner function\n",
    "from importlib import reload\n",
    "from helper import run\n",
    "import ecc, helper"
   ]
  },
  {
   "cell_type": "code",
   "execution_count": 26,
   "id": "3d7f19da",
   "metadata": {},
   "outputs": [
    {
     "name": "stdout",
     "output_type": "stream",
     "text": [
      "17\n",
      "11\n",
      "3\n",
      "11\n"
     ]
    }
   ],
   "source": [
    "# Addition/Subtraction example\n",
    "print((11 + 6) % 19)\n",
    "print((17 - 6) % 19)\n",
    "print((8 + 14) % 19)\n",
    "print((4 - 12) % 19)"
   ]
  },
  {
   "cell_type": "markdown",
   "id": "e1a18d5d",
   "metadata": {},
   "source": [
    "### Exercise 1\n",
    "Solve these equations in \\\\(F_{31}\\\\):\n",
    "* \\\\(2+15=?\\\\)\n",
    "* \\\\(17+21=?\\\\)\n",
    "* \\\\(29-4=?\\\\)\n",
    "* \\\\(15-30=?\\\\)\n",
    "\n",
    "Remember the % operator does the actual modulo operation. Also remember that `+` and `-` need to be in `()` because in the order of operations `%` comes before `+` and `-`.\n"
   ]
  },
  {
   "cell_type": "code",
   "execution_count": 29,
   "id": "35ea828e",
   "metadata": {},
   "outputs": [
    {
     "name": "stdout",
     "output_type": "stream",
     "text": [
      "17\n",
      "7\n",
      "25\n",
      "16\n"
     ]
    }
   ],
   "source": [
    "# Exercise 1\n",
    "\n",
    "# remember that % is the modulo operator\n",
    "prime = 31\n",
    "print((2+15) % prime)\n",
    "print((17+21) % prime)\n",
    "print((29-4) % prime)\n",
    "print((15-30) % prime)\n"
   ]
  },
  {
   "cell_type": "markdown",
   "id": "6cfdc137",
   "metadata": {},
   "source": [
    "### Exercise 2\n",
    "\n",
    "\n",
    "\n",
    "\n",
    "#### Make [this test](/edit/session1/ecc.py) pass: `ecc.py:FieldElementTest:test_add`"
   ]
  },
  {
   "cell_type": "code",
   "execution_count": 30,
   "id": "bc048074",
   "metadata": {},
   "outputs": [
    {
     "name": "stderr",
     "output_type": "stream",
     "text": [
      ".\n",
      "----------------------------------------------------------------------\n",
      "Ran 1 test in 0.001s\n",
      "\n",
      "OK\n"
     ]
    }
   ],
   "source": [
    "# Exercise 2\n",
    "\n",
    "reload(ecc)\n",
    "run(ecc.FieldElementTest('test_add'))"
   ]
  },
  {
   "cell_type": "markdown",
   "id": "c72383fe",
   "metadata": {},
   "source": [
    "### Exercise 3\n",
    "\n",
    "\n",
    "\n",
    "\n",
    "#### Make [this test](/edit/session1/ecc.py) pass: `ecc.py:FieldElementTest:test_sub`"
   ]
  },
  {
   "cell_type": "code",
   "execution_count": 31,
   "id": "a581aa4f",
   "metadata": {},
   "outputs": [
    {
     "name": "stderr",
     "output_type": "stream",
     "text": [
      ".\n",
      "----------------------------------------------------------------------\n",
      "Ran 1 test in 0.001s\n",
      "\n",
      "OK\n"
     ]
    }
   ],
   "source": [
    "# Exercise 3\n",
    "\n",
    "reload(ecc)\n",
    "run(ecc.FieldElementTest('test_sub'))"
   ]
  },
  {
   "cell_type": "code",
   "execution_count": 32,
   "id": "a521ddfd",
   "metadata": {},
   "outputs": [
    {
     "name": "stdout",
     "output_type": "stream",
     "text": [
      "8\n",
      "2\n",
      "1\n",
      "1\n"
     ]
    }
   ],
   "source": [
    "# Multiplication/Exponentiation Example\n",
    "print(2 * 4 % 19)\n",
    "print(7 * 3 % 19)\n",
    "print(11 ** 3 % 19)\n",
    "print(pow(11, 3, 19))"
   ]
  },
  {
   "cell_type": "markdown",
   "id": "8e0f0084",
   "metadata": {},
   "source": [
    "### Exercise 4\n",
    "Solve these equations in \\\\(F_{31}\\\\):\n",
    "* \\\\(24\\cdot19=?\\\\)\n",
    "* \\\\(17^3=?\\\\)\n",
    "* \\\\(5^5\\cdot18=?\\\\)\n"
   ]
  },
  {
   "cell_type": "code",
   "execution_count": 53,
   "id": "7144efb7",
   "metadata": {},
   "outputs": [
    {
     "name": "stdout",
     "output_type": "stream",
     "text": [
      "22\n",
      "15\n",
      "16\n"
     ]
    }
   ],
   "source": [
    "# Exercise 4\n",
    "\n",
    "# remember that ** is the exponentiation operator\n",
    "prime = 31\n",
    "print((24*19) % prime)\n",
    "print(pow(17,3, prime) %prime)\n",
    "print(pow(5,5, prime) * 18 % prime)\n"
   ]
  },
  {
   "cell_type": "markdown",
   "id": "352bef92",
   "metadata": {},
   "source": [
    "### Exercise 5\n",
    "Write a program to calculate \\\\(0\\cdot k, 1\\cdot k, 2\\cdot k, 3\\cdot k, ... 30\\cdot k\\\\) for some \\\\(k\\\\) in \\\\(F_{31}\\\\).  Notice anything about these sets?\n"
   ]
  },
  {
   "cell_type": "code",
   "execution_count": 72,
   "id": "334fea82",
   "metadata": {},
   "outputs": [
    {
     "name": "stdout",
     "output_type": "stream",
     "text": [
      "[0, 1, 2, 3, 4, 5, 6, 7, 8, 9, 10, 11, 12, 13, 14, 15, 16, 17, 18, 19, 20, 21, 22, 23, 24, 25, 26, 27, 28, 29, 30]\n",
      "[0, 1, 2, 3, 4, 5, 6, 7, 8, 9, 10]\n",
      "[0, 1]\n",
      "[0, 0, 0, 0, 0, 5, 5, 5, 5, 5]\n"
     ]
    }
   ],
   "source": [
    "# Exercise 5\n",
    "\n",
    "from random import randint\n",
    "prime = 31\n",
    "k = randint(1,prime)\n",
    "print(sorted([k*i%prime for i in range(prime)]))\n",
    "\n",
    "prime = 11\n",
    "print(sorted([k*i%prime for i in range(prime)]))\n",
    "# use range(prime) to iterate over all numbers from 0 to 30 inclusive\n",
    "\n",
    "\n",
    "prime = 2\n",
    "print(sorted([k*i%prime for i in range(prime)]))\n",
    "\n",
    "prime = 10\n",
    "print(sorted([k*i%prime for i in range(prime)]))\n",
    "\n",
    "# use range(prime) to iterate over all numbers from 0 to 30 inclusive\n",
    "\n",
    "# NOTE: when prime is prime numbers the return values are always the same. Otherwise they would change\n",
    "\n"
   ]
  },
  {
   "cell_type": "markdown",
   "id": "a1b27b7f",
   "metadata": {},
   "source": [
    "### Exercise 6\n",
    "\n",
    "\n",
    "\n",
    "\n",
    "#### Make [this test](/edit/session1/ecc.py) pass: `ecc.py:FieldElementTest:test_mul`"
   ]
  },
  {
   "cell_type": "code",
   "execution_count": 75,
   "id": "4b2f5e4f",
   "metadata": {},
   "outputs": [
    {
     "name": "stderr",
     "output_type": "stream",
     "text": [
      ".\n",
      "----------------------------------------------------------------------\n",
      "Ran 1 test in 0.001s\n",
      "\n",
      "OK\n"
     ]
    }
   ],
   "source": [
    "# Exercise 6\n",
    "\n",
    "reload(ecc)\n",
    "run(ecc.FieldElementTest('test_mul'))"
   ]
  },
  {
   "cell_type": "markdown",
   "id": "9a7d8baf",
   "metadata": {},
   "source": [
    "### Exercise 7\n",
    "\n",
    "\n",
    "\n",
    "\n",
    "#### Make [this test](/edit/session1/ecc.py) pass: `ecc.py:FieldElementTest:test_pow`"
   ]
  },
  {
   "cell_type": "code",
   "execution_count": 76,
   "id": "41d2a468",
   "metadata": {},
   "outputs": [
    {
     "name": "stderr",
     "output_type": "stream",
     "text": [
      ".\n",
      "----------------------------------------------------------------------\n",
      "Ran 1 test in 0.001s\n",
      "\n",
      "OK\n"
     ]
    }
   ],
   "source": [
    "# Exercise 7\n",
    "\n",
    "reload(ecc)\n",
    "run(ecc.FieldElementTest('test_pow'))"
   ]
  },
  {
   "cell_type": "markdown",
   "id": "06eb33b4",
   "metadata": {},
   "source": [
    "### Exercise 8\n",
    "#### BONUS QUESTION, ONLY ATTEMPT IF YOU HAVE TIME\n",
    "Write a program to calculate \\\\(i^{30}\\\\) for all i in \\\\(F_{31}\\\\). Notice anything?\n"
   ]
  },
  {
   "cell_type": "code",
   "execution_count": 81,
   "id": "14d76d93",
   "metadata": {},
   "outputs": [
    {
     "name": "stdout",
     "output_type": "stream",
     "text": [
      "[1, 1, 1, 1, 1, 1, 1, 1, 1, 1, 1, 1, 1, 1, 1, 1, 1, 1, 1, 1, 1, 1, 1, 1, 1, 1, 1, 1, 1, 1]\n"
     ]
    }
   ],
   "source": [
    "# Exercise 8\n",
    "\n",
    "# Bonus\n",
    "prime = 31\n",
    "# use range(1, prime) to iterate over all numbers from 1 to 30 inclusive\n",
    "\n",
    "from random import randint\n",
    "prime = 31\n",
    "\n",
    "print([pow(i,prime-1, prime) for i in range(1, prime)])"
   ]
  },
  {
   "cell_type": "code",
   "execution_count": 82,
   "id": "b7e6d9b6",
   "metadata": {},
   "outputs": [
    {
     "name": "stdout",
     "output_type": "stream",
     "text": [
      "7\n",
      "7\n",
      "4\n",
      "4\n"
     ]
    }
   ],
   "source": [
    "# Division Example\n",
    "print(2 * 3**17 % 19)\n",
    "print(2 * pow(3, 17, 19) % 19)\n",
    "print(3 * 15**17 % 19)\n",
    "print(3 * pow(15, -1, 19) % 19)"
   ]
  },
  {
   "cell_type": "markdown",
   "id": "db72ac41",
   "metadata": {},
   "source": [
    "### Exercise 9\n",
    "Solve these equations in \\\\(F_{31}\\\\):\n",
    "* \\\\(\\frac{3}{24} = ?\\\\)\n",
    "* \\\\(17^{-3} = ?\\\\)\n",
    "* \\\\(4^{-4}\\cdot{11} = ?\\\\)\n"
   ]
  },
  {
   "cell_type": "code",
   "execution_count": 95,
   "id": "73094a4a",
   "metadata": {},
   "outputs": [
    {
     "name": "stdout",
     "output_type": "stream",
     "text": [
      "4\n",
      "29\n",
      "13\n"
     ]
    }
   ],
   "source": [
    "# Exercise 9\n",
    "\n",
    "# remember pow(x, p-2, p) is the same as 1/x in F_p\n",
    "prime = 31\n",
    "print(3 * pow(24,prime-2,prime) % prime)\n",
    "print(pow(17,-3,prime))\n",
    "print(pow(4,-4,prime)*11 % prime)\n"
   ]
  },
  {
   "cell_type": "markdown",
   "id": "71968392",
   "metadata": {},
   "source": [
    "### Exercise 10\n",
    "\n",
    "\n",
    "\n",
    "\n",
    "#### Make [this test](/edit/session1/ecc.py) pass: `ecc.py:FieldElementTest:test_div`"
   ]
  },
  {
   "cell_type": "code",
   "execution_count": 96,
   "id": "0556bad7",
   "metadata": {},
   "outputs": [
    {
     "name": "stderr",
     "output_type": "stream",
     "text": [
      ".\n",
      "----------------------------------------------------------------------\n",
      "Ran 1 test in 0.001s\n",
      "\n",
      "OK\n"
     ]
    }
   ],
   "source": [
    "# Exercise 10\n",
    "\n",
    "reload(ecc)\n",
    "run(ecc.FieldElementTest('test_div'))"
   ]
  },
  {
   "cell_type": "code",
   "execution_count": 100,
   "id": "3f23debc",
   "metadata": {},
   "outputs": [
    {
     "name": "stdout",
     "output_type": "stream",
     "text": [
      "True\n"
     ]
    }
   ],
   "source": [
    "# Elliptic Curve Example\n",
    "x, y = -1, -1\n",
    "print(y**2 == x**3 + 5*x + 7)"
   ]
  },
  {
   "cell_type": "markdown",
   "id": "b62686d6",
   "metadata": {},
   "source": [
    "### Exercise 11\n",
    "For the curve \\\\(y^2 = x^3 + 5x + 7\\\\), which of these points are on the curve?\n",
    "\\\\((-2,4), (3,7), (18,77)\\\\)\n"
   ]
  },
  {
   "cell_type": "code",
   "execution_count": 103,
   "id": "c8df9a34",
   "metadata": {},
   "outputs": [
    {
     "name": "stdout",
     "output_type": "stream",
     "text": [
      "False\n",
      "True\n",
      "True\n"
     ]
    }
   ],
   "source": [
    "# Exercise 11\n",
    "\n",
    "# (-2,4), (3,7), (18,77)\n",
    "# equation in python is: y**2 == x**3 + 5*x + 7\n",
    "points = ((-2,4), (3,7), (18,77))\n",
    "for x, y in points:\n",
    "    print(pow(y,2) == pow(x,3) + 5*x +7)\n",
    "   \n",
    "    # determine whether (x,y) is on the curve"
   ]
  },
  {
   "cell_type": "markdown",
   "id": "8fdc5f91",
   "metadata": {},
   "source": [
    "### Exercise 12\n",
    "\n",
    "\n",
    "\n",
    "\n",
    "#### Make [this test](/edit/session1/ecc.py) pass: `ecc.py:PointTest:test_on_curve`"
   ]
  },
  {
   "cell_type": "code",
   "execution_count": 110,
   "id": "b7bcb7fa",
   "metadata": {},
   "outputs": [
    {
     "name": "stderr",
     "output_type": "stream",
     "text": [
      ".\n",
      "----------------------------------------------------------------------\n",
      "Ran 1 test in 0.001s\n",
      "\n",
      "OK\n"
     ]
    }
   ],
   "source": [
    "# Exercise 12\n",
    "\n",
    "reload(ecc)\n",
    "run(ecc.PointTest('test_on_curve'))"
   ]
  },
  {
   "cell_type": "markdown",
   "id": "d059b547",
   "metadata": {},
   "source": [
    "### Exercise 13\n",
    "\n",
    "\n",
    "\n",
    "\n",
    "#### Make [this test](/edit/session1/ecc.py) pass: `ecc.py:PointTest:test_add0`"
   ]
  },
  {
   "cell_type": "code",
   "execution_count": 127,
   "id": "a91b9acc",
   "metadata": {},
   "outputs": [
    {
     "name": "stderr",
     "output_type": "stream",
     "text": [
      ".\n",
      "----------------------------------------------------------------------\n",
      "Ran 1 test in 0.001s\n",
      "\n",
      "OK\n"
     ]
    }
   ],
   "source": [
    "# Exercise 13\n",
    "\n",
    "reload(ecc)\n",
    "run(ecc.PointTest('test_add0'))"
   ]
  },
  {
   "cell_type": "code",
   "execution_count": 128,
   "id": "7e9f821c",
   "metadata": {},
   "outputs": [
    {
     "name": "stdout",
     "output_type": "stream",
     "text": [
      "-1.0 1.0\n"
     ]
    }
   ],
   "source": [
    "# Point Addition where x1 != x2 Example\n",
    "x1, y1 = (2, 5)\n",
    "x2, y2 = (3, 7)\n",
    "s = (y2-y1)/(x2-x1)\n",
    "x3 = s**2 - x2 - x1\n",
    "y3 = s*(x1-x3)-y1\n",
    "print(x3, y3)"
   ]
  },
  {
   "cell_type": "markdown",
   "id": "057552f5",
   "metadata": {},
   "source": [
    "### Exercise 14\n",
    "For the curve \\\\(y^2 = x^3 + 5x + 7\\\\), what is \\\\((2,5) + (-1,-1)\\\\)?\n"
   ]
  },
  {
   "cell_type": "code",
   "execution_count": 140,
   "id": "634609c8",
   "metadata": {},
   "outputs": [
    {
     "name": "stdout",
     "output_type": "stream",
     "text": [
      "3.0 -7.0\n"
     ]
    }
   ],
   "source": [
    "# Exercise 14\n",
    "\n",
    "x1, y1 = (2,5)\n",
    "x2, y2 = (-1,-1)\n",
    "# formula in python:\n",
    "s = (y2-y1)/(x2-x1)\n",
    "\n",
    "x3 = s**2 - x2 - x1\n",
    "\n",
    "y3 = s*(x1-x3)-y1\n",
    "\n",
    "# print the coordinates\n",
    "print(x3,y3)"
   ]
  },
  {
   "cell_type": "markdown",
   "id": "66ebb06d",
   "metadata": {},
   "source": [
    "### Exercise 15\n",
    "\n",
    "\n",
    "\n",
    "\n",
    "#### Make [this test](/edit/session1/ecc.py) pass: `ecc.py:PointTest:test_add1`"
   ]
  },
  {
   "cell_type": "code",
   "execution_count": 134,
   "id": "0e710305",
   "metadata": {},
   "outputs": [
    {
     "name": "stderr",
     "output_type": "stream",
     "text": [
      ".\n",
      "----------------------------------------------------------------------\n",
      "Ran 1 test in 0.002s\n",
      "\n",
      "OK\n"
     ]
    }
   ],
   "source": [
    "# Exercise 15\n",
    "\n",
    "reload(ecc)\n",
    "run(ecc.PointTest('test_add1'))"
   ]
  },
  {
   "cell_type": "code",
   "execution_count": 137,
   "id": "1bcb4c86",
   "metadata": {},
   "outputs": [
    {
     "name": "stdout",
     "output_type": "stream",
     "text": [
      "-1.1100000000000003 0.2870000000000008\n"
     ]
    }
   ],
   "source": [
    "# Point Addition where x1 = x2 Example\n",
    "a = 5\n",
    "x1, y1 = (2, 5)\n",
    "s = (3*x1**2+a)/(2*y1)\n",
    "x3 = s**2 - 2*x1\n",
    "y3 = s*(x1-x3) - y1\n",
    "print(x3, y3)"
   ]
  },
  {
   "cell_type": "code",
   "execution_count": null,
   "id": "c35a0936",
   "metadata": {},
   "outputs": [],
   "source": []
  },
  {
   "cell_type": "markdown",
   "id": "e64af41b",
   "metadata": {},
   "source": [
    "### Exercise 16\n",
    "For the curve \\\\(y^2 = x^3 + 5x + 7\\\\), what is \\\\((-1,1) + (-1,1)\\\\)?\n"
   ]
  },
  {
   "cell_type": "code",
   "execution_count": 141,
   "id": "09605d63",
   "metadata": {},
   "outputs": [
    {
     "name": "stdout",
     "output_type": "stream",
     "text": [
      "18.0 77.0\n"
     ]
    }
   ],
   "source": [
    "# Exercise 16\n",
    "\n",
    "a, b = 5, 7\n",
    "x1, y1 = -1, -1\n",
    "# formula in python\n",
    "s = (3*x1**2+a)/(2*y1)\n",
    "\n",
    "x3 = s**2 - 2*x1\n",
    "\n",
    "y3 = s*(x1-x3) - y1\n",
    "\n",
    "# print the coordinates\n",
    "print(x3,y3)"
   ]
  },
  {
   "cell_type": "markdown",
   "id": "45a09f40",
   "metadata": {},
   "source": [
    "### Exercise 17\n",
    "\n",
    "\n",
    "\n",
    "\n",
    "#### Make [this test](/edit/session1/ecc.py) pass: `ecc.py:PointTest:test_add2`"
   ]
  },
  {
   "cell_type": "code",
   "execution_count": 142,
   "id": "661ab668",
   "metadata": {},
   "outputs": [
    {
     "name": "stderr",
     "output_type": "stream",
     "text": [
      ".\n",
      "----------------------------------------------------------------------\n",
      "Ran 1 test in 0.001s\n",
      "\n",
      "OK\n"
     ]
    }
   ],
   "source": [
    "# Exercise 17\n",
    "\n",
    "reload(ecc)\n",
    "run(ecc.PointTest('test_add2'))"
   ]
  },
  {
   "cell_type": "code",
   "execution_count": null,
   "id": "e8d5f286",
   "metadata": {},
   "outputs": [],
   "source": []
  },
  {
   "cell_type": "code",
   "execution_count": null,
   "id": "a192d5cd",
   "metadata": {},
   "outputs": [],
   "source": []
  },
  {
   "cell_type": "code",
   "execution_count": null,
   "id": "2eb4ce34",
   "metadata": {},
   "outputs": [],
   "source": []
  }
 ],
 "metadata": {
  "kernelspec": {
   "display_name": "Python 3 (ipykernel)",
   "language": "python",
   "name": "python3"
  },
  "language_info": {
   "codemirror_mode": {
    "name": "ipython",
    "version": 3
   },
   "file_extension": ".py",
   "mimetype": "text/x-python",
   "name": "python",
   "nbconvert_exporter": "python",
   "pygments_lexer": "ipython3",
   "version": "3.11.1"
  }
 },
 "nbformat": 4,
 "nbformat_minor": 5
}
